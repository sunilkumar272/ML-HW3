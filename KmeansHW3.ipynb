{
 "cells": [
  {
   "cell_type": "code",
   "execution_count": 126,
   "id": "e380a3e0",
   "metadata": {},
   "outputs": [],
   "source": [
    "import scipy \n",
    "import sklearn\n",
    "import numpy as np\n",
    "import pandas as pd\n",
    "from collections import Counter\n",
    "from sklearn.metrics import multilabel_confusion_matrix\n",
    "from scipy import spatial"
   ]
  },
  {
   "cell_type": "code",
   "execution_count": 127,
   "id": "de8ad6d7",
   "metadata": {},
   "outputs": [],
   "source": [
    "#Extracting the data from data and labels files using pandas\n",
    "data = pd.read_csv('data.csv')\n",
    "labels = pd.read_csv('label.csv',names=['label'],header=None)"
   ]
  },
  {
   "cell_type": "code",
   "execution_count": 128,
   "id": "2c9988f8",
   "metadata": {},
   "outputs": [
    {
     "data": {
      "text/html": [
       "<div>\n",
       "<style scoped>\n",
       "    .dataframe tbody tr th:only-of-type {\n",
       "        vertical-align: middle;\n",
       "    }\n",
       "\n",
       "    .dataframe tbody tr th {\n",
       "        vertical-align: top;\n",
       "    }\n",
       "\n",
       "    .dataframe thead th {\n",
       "        text-align: right;\n",
       "    }\n",
       "</style>\n",
       "<table border=\"1\" class=\"dataframe\">\n",
       "  <thead>\n",
       "    <tr style=\"text-align: right;\">\n",
       "      <th></th>\n",
       "      <th>0</th>\n",
       "      <th>0.1</th>\n",
       "      <th>0.2</th>\n",
       "      <th>0.3</th>\n",
       "      <th>0.4</th>\n",
       "      <th>0.5</th>\n",
       "      <th>0.6</th>\n",
       "      <th>0.7</th>\n",
       "      <th>0.8</th>\n",
       "      <th>0.9</th>\n",
       "      <th>...</th>\n",
       "      <th>0.658</th>\n",
       "      <th>0.659</th>\n",
       "      <th>0.660</th>\n",
       "      <th>0.661</th>\n",
       "      <th>0.662</th>\n",
       "      <th>0.663</th>\n",
       "      <th>0.664</th>\n",
       "      <th>0.665</th>\n",
       "      <th>0.666</th>\n",
       "      <th>0.667</th>\n",
       "    </tr>\n",
       "  </thead>\n",
       "  <tbody>\n",
       "    <tr>\n",
       "      <th>0</th>\n",
       "      <td>0</td>\n",
       "      <td>0</td>\n",
       "      <td>0</td>\n",
       "      <td>0</td>\n",
       "      <td>0</td>\n",
       "      <td>0</td>\n",
       "      <td>0</td>\n",
       "      <td>0</td>\n",
       "      <td>0</td>\n",
       "      <td>0</td>\n",
       "      <td>...</td>\n",
       "      <td>0</td>\n",
       "      <td>0</td>\n",
       "      <td>0</td>\n",
       "      <td>0</td>\n",
       "      <td>0</td>\n",
       "      <td>0</td>\n",
       "      <td>0</td>\n",
       "      <td>0</td>\n",
       "      <td>0</td>\n",
       "      <td>0</td>\n",
       "    </tr>\n",
       "    <tr>\n",
       "      <th>1</th>\n",
       "      <td>0</td>\n",
       "      <td>0</td>\n",
       "      <td>0</td>\n",
       "      <td>0</td>\n",
       "      <td>0</td>\n",
       "      <td>0</td>\n",
       "      <td>0</td>\n",
       "      <td>0</td>\n",
       "      <td>0</td>\n",
       "      <td>0</td>\n",
       "      <td>...</td>\n",
       "      <td>0</td>\n",
       "      <td>0</td>\n",
       "      <td>0</td>\n",
       "      <td>0</td>\n",
       "      <td>0</td>\n",
       "      <td>0</td>\n",
       "      <td>0</td>\n",
       "      <td>0</td>\n",
       "      <td>0</td>\n",
       "      <td>0</td>\n",
       "    </tr>\n",
       "    <tr>\n",
       "      <th>2</th>\n",
       "      <td>0</td>\n",
       "      <td>0</td>\n",
       "      <td>0</td>\n",
       "      <td>0</td>\n",
       "      <td>0</td>\n",
       "      <td>0</td>\n",
       "      <td>0</td>\n",
       "      <td>0</td>\n",
       "      <td>0</td>\n",
       "      <td>0</td>\n",
       "      <td>...</td>\n",
       "      <td>0</td>\n",
       "      <td>0</td>\n",
       "      <td>0</td>\n",
       "      <td>0</td>\n",
       "      <td>0</td>\n",
       "      <td>0</td>\n",
       "      <td>0</td>\n",
       "      <td>0</td>\n",
       "      <td>0</td>\n",
       "      <td>0</td>\n",
       "    </tr>\n",
       "    <tr>\n",
       "      <th>3</th>\n",
       "      <td>0</td>\n",
       "      <td>0</td>\n",
       "      <td>0</td>\n",
       "      <td>0</td>\n",
       "      <td>0</td>\n",
       "      <td>0</td>\n",
       "      <td>0</td>\n",
       "      <td>0</td>\n",
       "      <td>0</td>\n",
       "      <td>0</td>\n",
       "      <td>...</td>\n",
       "      <td>0</td>\n",
       "      <td>0</td>\n",
       "      <td>0</td>\n",
       "      <td>0</td>\n",
       "      <td>0</td>\n",
       "      <td>0</td>\n",
       "      <td>0</td>\n",
       "      <td>0</td>\n",
       "      <td>0</td>\n",
       "      <td>0</td>\n",
       "    </tr>\n",
       "    <tr>\n",
       "      <th>4</th>\n",
       "      <td>0</td>\n",
       "      <td>0</td>\n",
       "      <td>0</td>\n",
       "      <td>0</td>\n",
       "      <td>0</td>\n",
       "      <td>0</td>\n",
       "      <td>0</td>\n",
       "      <td>0</td>\n",
       "      <td>0</td>\n",
       "      <td>0</td>\n",
       "      <td>...</td>\n",
       "      <td>0</td>\n",
       "      <td>0</td>\n",
       "      <td>0</td>\n",
       "      <td>0</td>\n",
       "      <td>0</td>\n",
       "      <td>0</td>\n",
       "      <td>0</td>\n",
       "      <td>0</td>\n",
       "      <td>0</td>\n",
       "      <td>0</td>\n",
       "    </tr>\n",
       "  </tbody>\n",
       "</table>\n",
       "<p>5 rows × 784 columns</p>\n",
       "</div>"
      ],
      "text/plain": [
       "   0  0.1  0.2  0.3  0.4  0.5  0.6  0.7  0.8  0.9  ...  0.658  0.659  0.660  \\\n",
       "0  0    0    0    0    0    0    0    0    0    0  ...      0      0      0   \n",
       "1  0    0    0    0    0    0    0    0    0    0  ...      0      0      0   \n",
       "2  0    0    0    0    0    0    0    0    0    0  ...      0      0      0   \n",
       "3  0    0    0    0    0    0    0    0    0    0  ...      0      0      0   \n",
       "4  0    0    0    0    0    0    0    0    0    0  ...      0      0      0   \n",
       "\n",
       "   0.661  0.662  0.663  0.664  0.665  0.666  0.667  \n",
       "0      0      0      0      0      0      0      0  \n",
       "1      0      0      0      0      0      0      0  \n",
       "2      0      0      0      0      0      0      0  \n",
       "3      0      0      0      0      0      0      0  \n",
       "4      0      0      0      0      0      0      0  \n",
       "\n",
       "[5 rows x 784 columns]"
      ]
     },
     "execution_count": 128,
     "metadata": {},
     "output_type": "execute_result"
    }
   ],
   "source": [
    "data.head()"
   ]
  },
  {
   "cell_type": "code",
   "execution_count": 129,
   "id": "9069e265",
   "metadata": {},
   "outputs": [
    {
     "data": {
      "text/html": [
       "<div>\n",
       "<style scoped>\n",
       "    .dataframe tbody tr th:only-of-type {\n",
       "        vertical-align: middle;\n",
       "    }\n",
       "\n",
       "    .dataframe tbody tr th {\n",
       "        vertical-align: top;\n",
       "    }\n",
       "\n",
       "    .dataframe thead th {\n",
       "        text-align: right;\n",
       "    }\n",
       "</style>\n",
       "<table border=\"1\" class=\"dataframe\">\n",
       "  <thead>\n",
       "    <tr style=\"text-align: right;\">\n",
       "      <th></th>\n",
       "      <th>label</th>\n",
       "    </tr>\n",
       "  </thead>\n",
       "  <tbody>\n",
       "    <tr>\n",
       "      <th>0</th>\n",
       "      <td>7</td>\n",
       "    </tr>\n",
       "    <tr>\n",
       "      <th>1</th>\n",
       "      <td>2</td>\n",
       "    </tr>\n",
       "    <tr>\n",
       "      <th>2</th>\n",
       "      <td>1</td>\n",
       "    </tr>\n",
       "    <tr>\n",
       "      <th>3</th>\n",
       "      <td>0</td>\n",
       "    </tr>\n",
       "    <tr>\n",
       "      <th>4</th>\n",
       "      <td>4</td>\n",
       "    </tr>\n",
       "  </tbody>\n",
       "</table>\n",
       "</div>"
      ],
      "text/plain": [
       "   label\n",
       "0      7\n",
       "1      2\n",
       "2      1\n",
       "3      0\n",
       "4      4"
      ]
     },
     "execution_count": 129,
     "metadata": {},
     "output_type": "execute_result"
    }
   ],
   "source": [
    "labels.head()"
   ]
  },
  {
   "cell_type": "code",
   "execution_count": 130,
   "id": "2e1d2dbe",
   "metadata": {},
   "outputs": [],
   "source": [
    "#splitting the data for training and testing\n",
    "from sklearn.model_selection import train_test_split\n",
    "train_d, test_d = train_test_split( data, test_size=0.08, random_state=42)\n",
    "train_l, test_l = train_test_split( labels, test_size=0.08, random_state=42)"
   ]
  },
  {
   "cell_type": "code",
   "execution_count": 131,
   "id": "7835b0dc",
   "metadata": {},
   "outputs": [],
   "source": [
    "class KMeans:\n",
    "\n",
    "    def SSE_score(self, centroid_value, centroid_dict,data):\n",
    "        sse_count = 0\n",
    "        for i in centroid_dict:\n",
    "            clust_sse = 0\n",
    "            # np.sum()\n",
    "            for j in centroid_dict[i]:\n",
    "                datp = list(data.iloc[int(j)])\n",
    "                for x,y in zip(centroid_value[i],datp):\n",
    "                    clust_sse += (x-y)**2\n",
    "            sse_count+=clust_sse\n",
    "        return sse_count    \n",
    "    \n",
    "    def Centroid_intz(self,data,k):\n",
    "        z = data.shape[0]\n",
    "        centroid_value={}\n",
    "        for i in range(k):\n",
    "            rd = np.random.randint(0, z-1)\n",
    "            centroid_value[i] = data.iloc[rd]\n",
    "        return centroid_value\n",
    "    \n",
    "    def jaccard_sim(self,centroid, datp):\n",
    "        intersection = len(list(set(centroid).intersection(datp)))\n",
    "        union = (len(set(centroid)) + len(set(datp))) - intersection\n",
    "        return float(intersection) / union\n",
    "\n",
    "    def train_Kmeans(self,data,K,max_iter=20,mode=1,tol=10):\n",
    "        #mode 1 is eucledian\n",
    "        #mode 2 is jaccard\n",
    "        #mode 3 is cosine\n",
    "        centroid_value = self.Centroid_intz(data,K)\n",
    "        new_centroid_value = {}\n",
    "        cnt = 0\n",
    "        centroid_dict = {}\n",
    "        convergence = False\n",
    "        while((cnt<max_iter) and not convergence):\n",
    "            \n",
    "            for i in list(centroid_value.keys()):\n",
    "                centroid_dict[i]=[]\n",
    "            for i in range(data.shape[0]):\n",
    "                x = data.iloc[i]\n",
    "                if mode==1 :\n",
    "                    distance_measure = [np.linalg.norm(x-centroid_value[j])  for j in centroid_value]\n",
    "                    idx = np.argmin(distance_measure)\n",
    "                    centroid_dict[idx].append(i)\n",
    "                elif mode==2 :\n",
    "                    distance_measure = [self.jaccard_sim(list(x),centroid_value[j]) for j in centroid_value]\n",
    "                    idx = np.argmax(distance_measure)\n",
    "                    centroid_dict[idx].append(i)\n",
    "                elif mode==3 :\n",
    "                    distance_measure = [1-scipy.spatial.distance.cosine(x,list(centroid_value[j]))  for j in centroid_value]\n",
    "                    idx = np.argmax(distance_measure)\n",
    "                    centroid_dict[idx].append(i)\n",
    "                \n",
    "                prev_centroids=dict(centroid_value)\n",
    "                \n",
    "            \n",
    "            for i in centroid_dict:\n",
    "                if len(centroid_dict[i]):\n",
    "                    dps_centroid = centroid_dict[i]\n",
    "                    centroid_value[i] = np.average(data.iloc[dps_centroid],axis=0)\n",
    "            \n",
    "            \n",
    "            tot_cur=-1\n",
    "            for i in centroid_value:\n",
    "                prev_centroid_point = prev_centroids[i]\n",
    "                new_centroid_point = centroid_value[i]\n",
    "                change = np.sum(np.absolute(new_centroid_point-prev_centroid_point))\n",
    "                tot_cur= max(change, tot_cur)\n",
    "                \n",
    "            print(\"Total number of Iterations count \",cnt,\": \",tot_cur)\n",
    "            \n",
    "            cnt+=1\n",
    "            if (tot_cur<10):\n",
    "                convergence = True\n",
    "                break\n",
    "        \n",
    "        return centroid_value,centroid_dict\n",
    "    "
   ]
  },
  {
   "cell_type": "code",
   "execution_count": 132,
   "id": "7e5e8198",
   "metadata": {},
   "outputs": [],
   "source": [
    "def clust_predic(cs, S, labels):\n",
    "    \n",
    "    cluster_labels = np.zeros(10,dtype=int)\n",
    "    for k in cs:\n",
    "        labels_of_points = []\n",
    "        for point in S[k]:\n",
    "            labels_of_points.extend(labels.iloc[point])\n",
    "        counter = Counter(labels_of_points)\n",
    "        try:\n",
    "            cluster_labels[k] = max(counter, key=counter.get)\n",
    "        except:\n",
    "            cluster_labels[k] = np.random.randint(0,9)\n",
    "    return cluster_labels"
   ]
  },
  {
   "cell_type": "code",
   "execution_count": 133,
   "id": "b747b38d",
   "metadata": {},
   "outputs": [],
   "source": [
    "def jaccard_sim(centroid, datp):\n",
    "        intsec = len(list(set(centroid).intsec(datp)))\n",
    "        unionValue = (len(set(centroid)) + len(set(datp))) - intsec\n",
    "        return float(intsec) / unionValue"
   ]
  },
  {
   "cell_type": "code",
   "execution_count": 134,
   "id": "78008c69",
   "metadata": {},
   "outputs": [],
   "source": [
    "def accuracy(centroids, centroid_Labels, dat_test,lab_tru, mode=1):\n",
    "    y_true = list(lab_tru['label']);\n",
    "    y_pred = []\n",
    "    for index in range(dat_test.shape[0]):\n",
    "        featureset = dat_test.iloc[index]\n",
    "        if mode==1:\n",
    "            distances = [np.linalg.norm(featureset - centroids[centroid]) for centroid in centroids]\n",
    "            classification = distances.index(min(distances))\n",
    "            y_pred.append(centroid_Labels[classification])\n",
    "        elif mode==2:\n",
    "            similarity = [jaccard_sim(featureset, centroids[centroid]) for centroid in centroids]\n",
    "            classification = similarity.index(max(similarity))\n",
    "            y_pred.append(centroid_Labels[classification]) \n",
    "        elif mode==3:\n",
    "            similarity = [1 - spatial.distance.cosine(featureset, centroids[centroid]) for centroid in centroids]\n",
    "            classification = similarity.index(max(similarity))\n",
    "            y_pred.append(centroid_Labels[classification])\n",
    "    denominator = dat_test.shape[0]\n",
    "    correctly_classified = 0\n",
    "    for i in range(0,len(y_pred)):\n",
    "        if y_true[i] == y_pred[i]:\n",
    "            correctly_classified += 1\n",
    "    accuracy = correctly_classified/denominator\n",
    "    return accuracy"
   ]
  },
  {
   "cell_type": "code",
   "execution_count": 135,
   "id": "e7b448d0",
   "metadata": {},
   "outputs": [
    {
     "name": "stdout",
     "output_type": "stream",
     "text": [
      "Total number of Iterations count  0 :  26670.071022727272\n",
      "Total number of Iterations count  1 :  4118.685893459664\n",
      "Total number of Iterations count  2 :  3426.175467775467\n",
      "Total number of Iterations count  3 :  2462.513187426242\n",
      "Total number of Iterations count  4 :  2047.5241006230317\n",
      "Total number of Iterations count  5 :  1836.725665042743\n",
      "Total number of Iterations count  6 :  1443.9091456418482\n",
      "Total number of Iterations count  7 :  1308.6227757515474\n",
      "Total number of Iterations count  8 :  1189.261174242424\n",
      "Total number of Iterations count  9 :  824.2360361491149\n",
      "Total number of Iterations count  10 :  874.2109484064513\n",
      "Total number of Iterations count  11 :  672.9876558026299\n",
      "Total number of Iterations count  12 :  751.0912992701806\n",
      "Total number of Iterations count  13 :  600.9899389192648\n",
      "Total number of Iterations count  14 :  474.5313130827645\n",
      "Total number of Iterations count  15 :  425.57299078195655\n",
      "Total number of Iterations count  16 :  369.0048134777379\n",
      "Total number of Iterations count  17 :  318.1410212197536\n",
      "Total number of Iterations count  18 :  222.00494961351583\n",
      "Total number of Iterations count  19 :  197.77234652897315\n",
      "Total number of Iterations count  20 :  151.6863482671175\n",
      "Total number of Iterations count  21 :  127.33790667436136\n",
      "Total number of Iterations count  22 :  139.11569351230412\n",
      "Total number of Iterations count  23 :  142.51794352176478\n",
      "Total number of Iterations count  24 :  102.05300125007932\n",
      "Total number of Iterations count  25 :  63.367449664429714\n",
      "Total number of Iterations count  26 :  111.01244350662988\n",
      "Total number of Iterations count  27 :  196.22066630470852\n",
      "Total number of Iterations count  28 :  227.85521256101174\n",
      "Total number of Iterations count  29 :  163.49431334177484\n",
      "Total number of Iterations count  30 :  222.97558283155806\n",
      "Total number of Iterations count  31 :  419.38507262967374\n",
      "Total number of Iterations count  32 :  360.72571038854875\n",
      "Total number of Iterations count  33 :  432.84058637245863\n",
      "Total number of Iterations count  34 :  353.3502982059738\n",
      "Total number of Iterations count  35 :  438.87670462876974\n",
      "Total number of Iterations count  36 :  214.02439024390225\n",
      "Total number of Iterations count  37 :  261.0915005194677\n",
      "Total number of Iterations count  38 :  244.26905127063435\n",
      "Total number of Iterations count  39 :  291.2034341728346\n",
      "Total number of Iterations count  40 :  279.57442207151394\n",
      "Total number of Iterations count  41 :  213.17443987689137\n",
      "Total number of Iterations count  42 :  134.3495903580639\n",
      "Total number of Iterations count  43 :  105.84982094103458\n",
      "Total number of Iterations count  44 :  0.0\n"
     ]
    }
   ],
   "source": [
    "model_one = KMeans()\n",
    "centroids_one,clusters_one = model_one.train_Kmeans(data,10, max_iter=100,mode=1)"
   ]
  },
  {
   "cell_type": "code",
   "execution_count": 136,
   "id": "7003cd4f",
   "metadata": {},
   "outputs": [],
   "source": [
    "Sse_euclid = model_one.SSE_score(centroids_one,clusters_one,data)"
   ]
  },
  {
   "cell_type": "code",
   "execution_count": 137,
   "id": "9bc9582d",
   "metadata": {},
   "outputs": [
    {
     "name": "stdout",
     "output_type": "stream",
     "text": [
      "SSE of euclidean: 25429090251.489662\n"
     ]
    }
   ],
   "source": [
    "print(\"SSE of euclidean:\",Sse_euclid)"
   ]
  },
  {
   "cell_type": "code",
   "execution_count": 138,
   "id": "1b1beec1",
   "metadata": {},
   "outputs": [
    {
     "data": {
      "text/plain": [
       "array([3, 3, 7, 0, 9, 2, 9, 8, 1, 5])"
      ]
     },
     "execution_count": 138,
     "metadata": {},
     "output_type": "execute_result"
    }
   ],
   "source": [
    "cluster_labelOne = clust_predic(centroids_one,clusters_one,labels)\n",
    "cluster_labelOne"
   ]
  },
  {
   "cell_type": "code",
   "execution_count": 139,
   "id": "1e79e80d",
   "metadata": {},
   "outputs": [
    {
     "data": {
      "text/plain": [
       "0.085"
      ]
     },
     "execution_count": 139,
     "metadata": {},
     "output_type": "execute_result"
    }
   ],
   "source": [
    "Accuracy_Euclidean = accuracy(centroids_one, cluster_labelOne,test_data,test_labels)\n",
    "Accuracy_Euclidean"
   ]
  },
  {
   "cell_type": "code",
   "execution_count": 140,
   "id": "149dfc97",
   "metadata": {},
   "outputs": [
    {
     "name": "stdout",
     "output_type": "stream",
     "text": [
      "Total number of Iterations count  0 :  37728.310725552044\n",
      "Total number of Iterations count  1 :  5641.902471302115\n",
      "Total number of Iterations count  2 :  2102.5249893566834\n",
      "Total number of Iterations count  3 :  1675.5653493920818\n",
      "Total number of Iterations count  4 :  1748.5207437870858\n",
      "Total number of Iterations count  5 :  2105.5256722833165\n",
      "Total number of Iterations count  6 :  948.2888425309552\n",
      "Total number of Iterations count  7 :  782.6303025970467\n",
      "Total number of Iterations count  8 :  831.6921120683496\n",
      "Total number of Iterations count  9 :  847.3218437294374\n",
      "Total number of Iterations count  10 :  724.1598015081822\n",
      "Total number of Iterations count  11 :  671.4036226684299\n",
      "Total number of Iterations count  12 :  328.771642583229\n",
      "Total number of Iterations count  13 :  0.0\n"
     ]
    }
   ],
   "source": [
    "model_two = KMeans()\n",
    "centroids_two,cluster_two = model2.train_Kmeans(data,10, max_iter=100,mode=2)\n",
    "Sse_jacc = model2.SSE_score(centroids_two,cluster_two,data)"
   ]
  },
  {
   "cell_type": "code",
   "execution_count": 141,
   "id": "8f05bce1",
   "metadata": {},
   "outputs": [
    {
     "name": "stdout",
     "output_type": "stream",
     "text": [
      "SSE for jaccard 34361687572.938736\n"
     ]
    }
   ],
   "source": [
    "print(\"SSE for jaccard\",Sse_jacc)"
   ]
  },
  {
   "cell_type": "code",
   "execution_count": 142,
   "id": "6f8a07dd",
   "metadata": {},
   "outputs": [
    {
     "data": {
      "text/plain": [
       "array([1, 6, 5, 5, 3, 2, 2, 1, 1, 0])"
      ]
     },
     "execution_count": 142,
     "metadata": {},
     "output_type": "execute_result"
    }
   ],
   "source": [
    "cluster_label_two = clust_predic(centroids_two,cluster_two,labels)\n",
    "cluster_label_two"
   ]
  },
  {
   "cell_type": "code",
   "execution_count": 143,
   "id": "cb1f1b3b",
   "metadata": {},
   "outputs": [
    {
     "data": {
      "text/plain": [
       "0.1075"
      ]
     },
     "execution_count": 143,
     "metadata": {},
     "output_type": "execute_result"
    }
   ],
   "source": [
    "Accuracy_Jaccard = accuracy(centroids_two, cluster_label_two,test_data,test_labels)\n",
    "Accuracy_Jaccard"
   ]
  },
  {
   "cell_type": "code",
   "execution_count": 144,
   "id": "91c3cfde",
   "metadata": {},
   "outputs": [
    {
     "name": "stdout",
     "output_type": "stream",
     "text": [
      "Total number of Iterations count  0 :  31159.651564185544\n",
      "Total number of Iterations count  1 :  5506.3951061532925\n",
      "Total number of Iterations count  2 :  3593.805377509124\n",
      "Total number of Iterations count  3 :  4963.302078878507\n",
      "Total number of Iterations count  4 :  3069.892127179063\n",
      "Total number of Iterations count  5 :  1171.1084997613766\n",
      "Total number of Iterations count  6 :  1124.891007653061\n",
      "Total number of Iterations count  7 :  981.0253511290446\n",
      "Total number of Iterations count  8 :  871.423940621154\n",
      "Total number of Iterations count  9 :  559.6601744601744\n",
      "Total number of Iterations count  10 :  537.9095915678522\n",
      "Total number of Iterations count  11 :  416.34609205421395\n",
      "Total number of Iterations count  12 :  404.9430598637042\n",
      "Total number of Iterations count  13 :  331.80318334863784\n",
      "Total number of Iterations count  14 :  396.29743348883153\n",
      "Total number of Iterations count  15 :  367.15595235175886\n",
      "Total number of Iterations count  16 :  363.5693551256235\n",
      "Total number of Iterations count  17 :  313.28668767507\n",
      "Total number of Iterations count  18 :  306.6073347107439\n",
      "Total number of Iterations count  19 :  300.76769037173096\n",
      "Total number of Iterations count  20 :  361.1609514484047\n",
      "Total number of Iterations count  21 :  367.1735142177024\n",
      "Total number of Iterations count  22 :  316.91838010314405\n",
      "Total number of Iterations count  23 :  327.3719882530381\n",
      "Total number of Iterations count  24 :  280.13547117588536\n",
      "Total number of Iterations count  25 :  240.7543679342241\n",
      "Total number of Iterations count  26 :  228.26853619145493\n",
      "Total number of Iterations count  27 :  182.4945649249667\n",
      "Total number of Iterations count  28 :  275.74583051387185\n",
      "Total number of Iterations count  29 :  282.3276759511089\n",
      "Total number of Iterations count  30 :  202.51929408040522\n",
      "Total number of Iterations count  31 :  209.5438936175653\n",
      "Total number of Iterations count  32 :  287.2181602449333\n",
      "Total number of Iterations count  33 :  334.4956494630361\n",
      "Total number of Iterations count  34 :  366.92498226441865\n",
      "Total number of Iterations count  35 :  431.8377732473017\n",
      "Total number of Iterations count  36 :  191.39559143686483\n",
      "Total number of Iterations count  37 :  170.00390175861892\n",
      "Total number of Iterations count  38 :  257.7229148629147\n",
      "Total number of Iterations count  39 :  224.09868378812192\n",
      "Total number of Iterations count  40 :  217.71844569288396\n",
      "Total number of Iterations count  41 :  160.60552858683917\n",
      "Total number of Iterations count  42 :  87.30921411608767\n",
      "Total number of Iterations count  43 :  117.89529718272553\n",
      "Total number of Iterations count  44 :  90.90131022823321\n",
      "Total number of Iterations count  45 :  77.55880358163458\n",
      "Total number of Iterations count  46 :  98.74133083411421\n",
      "Total number of Iterations count  47 :  107.66773162939279\n",
      "Total number of Iterations count  48 :  79.16988950276246\n",
      "Total number of Iterations count  49 :  83.90467710759015\n",
      "Total number of Iterations count  50 :  118.12613386696205\n",
      "Total number of Iterations count  51 :  124.07786526520877\n",
      "Total number of Iterations count  52 :  139.9721672989591\n",
      "Total number of Iterations count  53 :  93.04754043063537\n",
      "Total number of Iterations count  54 :  90.50852431649508\n",
      "Total number of Iterations count  55 :  72.9858829067995\n",
      "Total number of Iterations count  56 :  50.9336050642934\n",
      "Total number of Iterations count  57 :  60.78858026239239\n",
      "Total number of Iterations count  58 :  77.21875532527196\n",
      "Total number of Iterations count  59 :  49.283474992176494\n",
      "Total number of Iterations count  60 :  50.18189495171288\n",
      "Total number of Iterations count  61 :  32.38230735065512\n",
      "Total number of Iterations count  62 :  27.45870416027739\n",
      "Total number of Iterations count  63 :  26.513733250075944\n",
      "Total number of Iterations count  64 :  44.297228492797515\n",
      "Total number of Iterations count  65 :  52.92598559307859\n",
      "Total number of Iterations count  66 :  48.312963893775745\n",
      "Total number of Iterations count  67 :  48.88413365678484\n",
      "Total number of Iterations count  68 :  48.45814424428705\n",
      "Total number of Iterations count  69 :  42.86642998430223\n",
      "Total number of Iterations count  70 :  27.19457126209171\n",
      "Total number of Iterations count  71 :  39.6979624753275\n",
      "Total number of Iterations count  72 :  40.8990099814883\n",
      "Total number of Iterations count  73 :  38.5645963626357\n",
      "Total number of Iterations count  74 :  25.990497753891436\n",
      "Total number of Iterations count  75 :  27.408304120427108\n",
      "Total number of Iterations count  76 :  22.424017787132414\n",
      "Total number of Iterations count  77 :  30.589522405715783\n",
      "Total number of Iterations count  78 :  0.0\n"
     ]
    }
   ],
   "source": [
    "model_three = KMeans()\n",
    "centroids_three,clusters_three = model_three.train_Kmeans(data,10, max_iter = 100,mode=3)"
   ]
  },
  {
   "cell_type": "code",
   "execution_count": 145,
   "id": "715abacb",
   "metadata": {},
   "outputs": [],
   "source": [
    "Sse_cos = model_three.SSE_score(centroids_three,clusters_three,data)"
   ]
  },
  {
   "cell_type": "code",
   "execution_count": 146,
   "id": "7cfc88b9",
   "metadata": {},
   "outputs": [
    {
     "name": "stdout",
     "output_type": "stream",
     "text": [
      "SSE of euclidean : 25429090251.489662\n",
      "SSE of Jacard : 34361687572.938736\n",
      "SSE of Cosine : 25613952004.39616\n"
     ]
    }
   ],
   "source": [
    "print(\"SSE of euclidean :\",Sse_euclid)\n",
    "print(\"SSE of Jacard :\",Sse_jacc)\n",
    "print(\"SSE of Cosine :\",Sse_cos)"
   ]
  },
  {
   "cell_type": "code",
   "execution_count": 147,
   "id": "66b64bb5",
   "metadata": {},
   "outputs": [
    {
     "data": {
      "text/plain": [
       "array([2, 7, 5, 9, 3, 3, 6, 1, 0, 8])"
      ]
     },
     "execution_count": 147,
     "metadata": {},
     "output_type": "execute_result"
    }
   ],
   "source": [
    "cluster_labels_three = clust_predic(centroids_three,clusters_three,labels)\n",
    "cluster_labels_three"
   ]
  },
  {
   "cell_type": "code",
   "execution_count": 148,
   "id": "ecbd72dd",
   "metadata": {},
   "outputs": [
    {
     "data": {
      "text/plain": [
       "0.07875"
      ]
     },
     "execution_count": 148,
     "metadata": {},
     "output_type": "execute_result"
    }
   ],
   "source": [
    "Accuracy_Cosine = accuracy(centroids3, cluster_labels3,test_data,test_labels)\n",
    "Accuracy_Cosine"
   ]
  },
  {
   "cell_type": "code",
   "execution_count": 149,
   "id": "bbc08809",
   "metadata": {},
   "outputs": [
    {
     "name": "stdout",
     "output_type": "stream",
     "text": [
      "Accuracy of Euclidean: 0.085\n",
      "Accuracy of Jacard: 0.1075\n",
      "Accuracy of Cosine : 0.07875\n"
     ]
    }
   ],
   "source": [
    "print(\"Accuracy of Euclidean:\",Accuracy_Euclidean)\n",
    "print(\"Accuracy of Jacard:\",Accuracy_Jaccard)\n",
    "print(\"Accuracy of Cosine :\",Accuracy_Cosine)"
   ]
  },
  {
   "cell_type": "code",
   "execution_count": null,
   "id": "8f08a7f3",
   "metadata": {},
   "outputs": [],
   "source": []
  }
 ],
 "metadata": {
  "kernelspec": {
   "display_name": "Python 3 (ipykernel)",
   "language": "python",
   "name": "python3"
  },
  "language_info": {
   "codemirror_mode": {
    "name": "ipython",
    "version": 3
   },
   "file_extension": ".py",
   "mimetype": "text/x-python",
   "name": "python",
   "nbconvert_exporter": "python",
   "pygments_lexer": "ipython3",
   "version": "3.9.13"
  }
 },
 "nbformat": 4,
 "nbformat_minor": 5
}
